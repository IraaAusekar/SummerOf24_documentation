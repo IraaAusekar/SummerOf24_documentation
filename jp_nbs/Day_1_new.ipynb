{
 "cells": [
  {
   "cell_type": "markdown",
   "id": "14cf041a",
   "metadata": {},
   "source": [
    "# day 1"
   ]
  },
  {
   "cell_type": "code",
   "execution_count": null,
   "id": "01f8806b",
   "metadata": {},
   "outputs": [],
   "source": [
    "print('hello world')"
   ]
  },
  {
   "cell_type": "code",
   "execution_count": null,
   "id": "98bd1154",
   "metadata": {},
   "outputs": [],
   "source": [
    "a = 5 + 7\n",
    "print(a)"
   ]
  },
  {
   "cell_type": "code",
   "execution_count": null,
   "id": "bc65e54b",
   "metadata": {},
   "outputs": [],
   "source": [
    "x = \"vaniglia\"\n",
    "type(x)"
   ]
  },
  {
   "cell_type": "code",
   "execution_count": null,
   "id": "fbdda398",
   "metadata": {},
   "outputs": [],
   "source": [
    "x=5\n",
    "x+1"
   ]
  },
  {
   "cell_type": "code",
   "execution_count": null,
   "id": "40291345",
   "metadata": {},
   "outputs": [],
   "source": [
    "x=5\n",
    "for x in range(0,8):\n",
    "    x+=1\n",
    "    print(x)"
   ]
  },
  {
   "cell_type": "code",
   "execution_count": null,
   "id": "18ff97e0",
   "metadata": {},
   "outputs": [],
   "source": [
    "def generate_range(x,y):\n",
    "    temp_list = []\n",
    "    for i in range(x,y):\n",
    "        i+=1\n",
    "        #print(i)\n",
    "        temp_list.append(i)\n",
    "    \n",
    "    return(temp_list)\n",
    "    "
   ]
  },
  {
   "cell_type": "code",
   "execution_count": null,
   "id": "b5294418",
   "metadata": {},
   "outputs": [],
   "source": [
    "def generate_range():\n",
    "    x = int(input('please type in your lower limit value: '))\n",
    "    y =  int(input('please type in your upper limit value: '))\n",
    "    \n",
    "    temp_list = []\n",
    "    for i in range(x,y):\n",
    "        i+=1\n",
    "        #print(i)\n",
    "        temp_list.append(i)\n",
    "    \n",
    "    return(temp_list)\n",
    "    "
   ]
  },
  {
   "cell_type": "code",
   "execution_count": null,
   "id": "7735a93d",
   "metadata": {},
   "outputs": [],
   "source": [
    "def fibonacci():\n",
    "    x = int(input('how many numbers do you want in your sequence?: '))\n",
    "    print(\"The 1st value of the sequence is 0\")\n",
    "    print(\"The 2nd value of the sequence is 1\")\n",
    "    list4 = [0,1]\n",
    "   \n",
    "    for y in range(x-2):\n",
    "        z= (list4[-1] + list4[-2])\n",
    "        print(\"The \" + str(y+3) +\"th value of the sequence is \" + str(z))\n",
    "        \n",
    "        list4.append(z)\n",
    "\n",
    "    return(list4)\n",
    "\n"
   ]
  },
  {
   "cell_type": "code",
   "execution_count": null,
   "id": "8825244f",
   "metadata": {},
   "outputs": [],
   "source": [
    "fib_50=fibonacci()"
   ]
  },
  {
   "cell_type": "code",
   "execution_count": null,
   "id": "48e27902",
   "metadata": {},
   "outputs": [],
   "source": [
    "fib_50"
   ]
  },
  {
   "cell_type": "code",
   "execution_count": null,
   "id": "7154d3d7",
   "metadata": {},
   "outputs": [],
   "source": [
    "x = generate_range(10,20)"
   ]
  },
  {
   "cell_type": "code",
   "execution_count": null,
   "id": "4b8b9258",
   "metadata": {},
   "outputs": [],
   "source": [
    "x = generate_range()"
   ]
  },
  {
   "cell_type": "code",
   "execution_count": null,
   "id": "3e76d59b",
   "metadata": {},
   "outputs": [],
   "source": [
    "len(x)"
   ]
  },
  {
   "cell_type": "code",
   "execution_count": null,
   "id": "a2f5fab9",
   "metadata": {},
   "outputs": [],
   "source": [
    "x"
   ]
  },
  {
   "cell_type": "code",
   "execution_count": null,
   "id": "e428048a",
   "metadata": {},
   "outputs": [],
   "source": [
    "x[5]"
   ]
  },
  {
   "cell_type": "code",
   "execution_count": null,
   "id": "242b1bc9",
   "metadata": {},
   "outputs": [],
   "source": [
    "x.remove(17)"
   ]
  },
  {
   "cell_type": "code",
   "execution_count": null,
   "id": "db0b3290",
   "metadata": {},
   "outputs": [],
   "source": [
    "len(x)"
   ]
  },
  {
   "cell_type": "code",
   "execution_count": null,
   "id": "3a910fa0",
   "metadata": {},
   "outputs": [],
   "source": [
    "x"
   ]
  },
  {
   "cell_type": "code",
   "execution_count": null,
   "id": "64fbe879",
   "metadata": {},
   "outputs": [],
   "source": [
    "new_list =['Iraa', 5, 11, 'India']"
   ]
  },
  {
   "cell_type": "code",
   "execution_count": null,
   "id": "a6dfefae",
   "metadata": {},
   "outputs": [],
   "source": [
    "new_list[3]"
   ]
  },
  {
   "cell_type": "code",
   "execution_count": null,
   "id": "06f50bad",
   "metadata": {},
   "outputs": [],
   "source": [
    "new_list.append(str(5))"
   ]
  },
  {
   "cell_type": "code",
   "execution_count": null,
   "id": "3d5e038e",
   "metadata": {},
   "outputs": [],
   "source": [
    "new_list"
   ]
  },
  {
   "cell_type": "code",
   "execution_count": null,
   "id": "24bc3114",
   "metadata": {},
   "outputs": [],
   "source": [
    "12.0/3"
   ]
  },
  {
   "cell_type": "code",
   "execution_count": null,
   "id": "e3f7167f",
   "metadata": {},
   "outputs": [],
   "source": [
    "4*22*5**3/3/7"
   ]
  },
  {
   "cell_type": "code",
   "execution_count": null,
   "id": "c7d2d6a8",
   "metadata": {},
   "outputs": [],
   "source": [
    "x = (8.15)+(3*7.12)+(8.15)\n",
    "#if int(x[3:5])>=60\n",
    "   # x[3:5]=str()\n",
    "print(x)\n"
   ]
  },
  {
   "cell_type": "code",
   "execution_count": null,
   "id": "72ef9e2e",
   "metadata": {},
   "outputs": [],
   "source": [
    "def intended_greeting():\n",
    "    #print(\"Good morning. It's 7 A.M. The weather is 72 degrees with scattered clouds.\")\n",
    "    #print('Am I getting printed?')\n",
    "    \n",
    "    x = \"Good morning. It's 7 A.M. The weather is 72 degrees with scattered clouds.\"\n",
    "    #return(\"Good morning. It's 7 A.M. The weather is 72 degrees with scattered clouds.\")\n",
    "    return(x)\n",
    "    \n",
    "\n",
    "\n",
    "intended_greeting()"
   ]
  },
  {
   "cell_type": "code",
   "execution_count": null,
   "id": "37a30b95",
   "metadata": {},
   "outputs": [],
   "source": [
    "print(type(y))"
   ]
  },
  {
   "cell_type": "code",
   "execution_count": null,
   "id": "a93141d4",
   "metadata": {},
   "outputs": [],
   "source": [
    "y = intended_greeting()"
   ]
  },
  {
   "cell_type": "code",
   "execution_count": null,
   "id": "d8b452d6",
   "metadata": {},
   "outputs": [],
   "source": [
    "y + ' I added something'"
   ]
  },
  {
   "cell_type": "code",
   "execution_count": null,
   "id": "5e8fb842",
   "metadata": {},
   "outputs": [],
   "source": [
    "y + str(5)"
   ]
  },
  {
   "cell_type": "markdown",
   "id": "8b00767e",
   "metadata": {},
   "source": []
  },
  {
   "cell_type": "markdown",
   "id": "8bedd2b8",
   "metadata": {},
   "source": [
    "# Day 2"
   ]
  },
  {
   "cell_type": "code",
   "execution_count": null,
   "id": "dd119bd8",
   "metadata": {},
   "outputs": [],
   "source": [
    "s = input(\"enter your string\")\n",
    "def right_justify(s):\n",
    "    z = 70 - int(len(s))\n",
    "    y = ' '*z\n",
    "    a = y + s\n",
    "    return a\n",
    "right_justify(s)"
   ]
  },
  {
   "cell_type": "code",
   "execution_count": null,
   "id": "b267b4d5",
   "metadata": {},
   "outputs": [],
   "source": [
    "l = input(\"enter length\")\n",
    "b = input(\"enter breadth\")\n",
    "\n",
    "t = '-'*int(b)\n",
    "mid = \"|\" + (\" \"*(int(b)-2)) sars\n",
    "def rectangle(l,b):\n",
    "    "
   ]
  },
  {
   "cell_type": "code",
   "execution_count": null,
   "id": "92e5760f",
   "metadata": {},
   "outputs": [],
   "source": [
    "x = list(range(1,101))"
   ]
  },
  {
   "cell_type": "code",
   "execution_count": 4,
   "id": "c8ec9641",
   "metadata": {},
   "outputs": [],
   "source": [
    "def getNumbers():\n",
    "    \n",
    "    num = int(input(\"how many numbers do you want to generate? \"))\n",
    "    return(num)"
   ]
  },
  {
   "cell_type": "code",
   "execution_count": 5,
   "id": "89b9c197",
   "metadata": {},
   "outputs": [],
   "source": [
    "def fibonacci(num):\n",
    "    #x = int(input('how many numbers do you want in your sequence?: '))\n",
    "    #print(\"The 1st value of the sequence is 0\")\n",
    "   # print(\"The 2nd value of the sequence is 1\")\n",
    "    list4 = [0,1]\n",
    "   \n",
    "    for y in range(num-2):\n",
    "        z= (list4[-1] + list4[-2])\n",
    "        #print(\"The \" + str(y+3) +\"th value of the sequence is \" + str(z))\n",
    "        list4.append(z)\n",
    "\n",
    "    return(list4)"
   ]
  },
  {
   "cell_type": "code",
   "execution_count": 6,
   "id": "063f7991",
   "metadata": {},
   "outputs": [],
   "source": [
    "def lucky(num):\n",
    "\n",
    "    #total = int(input(\"how many lucky numbers do you want? \"))\n",
    "\n",
    "    upper_limit = num*3\n",
    "\n",
    "    l = []\n",
    "\n",
    "    for n in range(1,upper_limit):\n",
    "        l.append(n)\n",
    "\n",
    "#alternatively we can also do this\n",
    "#l = list(range(1,101))\n",
    "\n",
    "    for n in l:\n",
    "        if n%2==0:\n",
    "            l.remove(n)\n",
    "\n",
    "    for n in l:\n",
    "        if (n+7)%6==0:\n",
    "            l.remove(n)\n",
    "    #print(l)\n",
    "    #print(len(l))\n",
    "    return(l)"
   ]
  },
  {
   "cell_type": "code",
   "execution_count": 7,
   "id": "e4bb4856",
   "metadata": {},
   "outputs": [],
   "source": [
    "def generate_sequence():\n",
    "    \n",
    "    sequence= int(input(\"What type of sequence do you want to generate? If Fibonacci, press 4. If lucky, press 7. \"))\n",
    "    \n",
    "    if sequence!=4 and sequence!=7:\n",
    "        sequence= int(input(\"Number not recognised. please try again.\"))\n",
    "    \n",
    "    num = getNumbers()\n",
    "    \n",
    "    if sequence == 4:\n",
    "        x = fibonacci(num)\n",
    "        print('Your Fibonacci numbers have been generated. Please check your variable.')\n",
    "        \n",
    "    elif sequence==7:\n",
    "        x = lucky(num)\n",
    "        print('Your Lucky numbers have been generated. Please check your variable.')\n",
    "        \n",
    "    return(x)"
   ]
  },
  {
   "cell_type": "code",
   "execution_count": 8,
   "id": "ac787bfa",
   "metadata": {},
   "outputs": [],
   "source": [
    "def generate_sequence():\n",
    "    \n",
    "    sequence= input(\"What type of sequence do you want to generate? If Fibonacci, press 4. If Lucky, press 7. \")\n",
    "    \n",
    "#     if sequence!=4 and sequence!=7:\n",
    "#         sequence= int(input(\"Number not recognised. please try again.\"))\n",
    "    \n",
    "    #num = getNumbers()\n",
    "    \n",
    "    if sequence == '4' or sequence == '04':\n",
    "        num = getNumbers()\n",
    "        x = fibonacci(num)\n",
    "        print('Your Fibonacci numbers have been generated. Please check your variable.')\n",
    "        return(x)\n",
    "        \n",
    "    elif sequence == '7' or sequence == '07':\n",
    "        num = getNumbers()\n",
    "        x = lucky(num)\n",
    "        print('Your Lucky numbers have been generated. Please check your variable.')\n",
    "        return(x)\n",
    "        \n",
    "    else:\n",
    "        print('Oops! Wrong Input. Please try again')\n",
    "        generate_sequence()\n",
    "    \n",
    "    #return(x)"
   ]
  },
  {
   "cell_type": "code",
   "execution_count": null,
   "id": "33b882bc",
   "metadata": {},
   "outputs": [],
   "source": [
    "test = generate_sequence()"
   ]
  },
  {
   "cell_type": "code",
   "execution_count": 11,
   "id": "082ad930",
   "metadata": {},
   "outputs": [],
   "source": [
    "import os"
   ]
  },
  {
   "cell_type": "code",
   "execution_count": 12,
   "id": "2cec5be4",
   "metadata": {},
   "outputs": [
    {
     "name": "stdout",
     "output_type": "stream",
     "text": [
      "C:\\Users\\Admin\\Documents\\python_learning\\may24\\jp_nbs\n"
     ]
    }
   ],
   "source": [
    "print(os.getcwd())"
   ]
  },
  {
   "cell_type": "code",
   "execution_count": null,
   "id": "019e706f",
   "metadata": {},
   "outputs": [],
   "source": []
  }
 ],
 "metadata": {
  "kernelspec": {
   "display_name": "Python 3 (ipykernel)",
   "language": "python",
   "name": "python3"
  },
  "language_info": {
   "codemirror_mode": {
    "name": "ipython",
    "version": 3
   },
   "file_extension": ".py",
   "mimetype": "text/x-python",
   "name": "python",
   "nbconvert_exporter": "python",
   "pygments_lexer": "ipython3",
   "version": "3.10.14"
  }
 },
 "nbformat": 4,
 "nbformat_minor": 5
}
