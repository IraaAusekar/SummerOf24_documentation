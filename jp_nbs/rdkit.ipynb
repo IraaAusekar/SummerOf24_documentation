{
 "cells": [
  {
   "cell_type": "code",
   "execution_count": null,
   "id": "307797c2",
   "metadata": {},
   "outputs": [],
   "source": [
    "#pip install rdkit"
   ]
  },
  {
   "cell_type": "code",
   "execution_count": 2,
   "id": "d5547d69",
   "metadata": {},
   "outputs": [],
   "source": [
    "import pandas as pd\n",
    "from tqdm import tqdm\n",
    "import rdkit\n",
    "from rdkit import Chem\n",
    "from rdkit.Chem.Draw import IPythonConsole\n",
    "from rdkit.Chem import Draw\n",
    "from rdkit.Chem import Descriptors\n",
    "#from rdkit import Allchem"
   ]
  },
  {
   "cell_type": "code",
   "execution_count": 4,
   "id": "975baf1a",
   "metadata": {},
   "outputs": [],
   "source": [
    "import os"
   ]
  },
  {
   "cell_type": "code",
   "execution_count": 5,
   "id": "d9793332",
   "metadata": {},
   "outputs": [],
   "source": [
    "os.chdir('C:\\\\Users\\\\Admin\\\\Documents\\\\python_learning\\\\may24')"
   ]
  },
  {
   "cell_type": "code",
   "execution_count": 6,
   "id": "1b42d63f",
   "metadata": {},
   "outputs": [],
   "source": [
    "chem = pd.read_csv('data/gluers.csv')"
   ]
  },
  {
   "cell_type": "code",
   "execution_count": 10,
   "id": "5a9d6de9",
   "metadata": {},
   "outputs": [
    {
     "name": "stdout",
     "output_type": "stream",
     "text": [
      "[<rdkit.Chem.rdchem.Mol object at 0x0000020292952FF0>, <rdkit.Chem.rdchem.Mol object at 0x0000020292953220>, <rdkit.Chem.rdchem.Mol object at 0x0000020292953060>, <rdkit.Chem.rdchem.Mol object at 0x00000202929531B0>, <rdkit.Chem.rdchem.Mol object at 0x0000020292953140>, <rdkit.Chem.rdchem.Mol object at 0x0000020292953290>, <rdkit.Chem.rdchem.Mol object at 0x0000020292953300>, <rdkit.Chem.rdchem.Mol object at 0x0000020292953370>, <rdkit.Chem.rdchem.Mol object at 0x00000202929533E0>, <rdkit.Chem.rdchem.Mol object at 0x0000020292953450>, <rdkit.Chem.rdchem.Mol object at 0x00000202929534C0>, <rdkit.Chem.rdchem.Mol object at 0x0000020292953530>, <rdkit.Chem.rdchem.Mol object at 0x00000202929535A0>, <rdkit.Chem.rdchem.Mol object at 0x0000020292953680>, <rdkit.Chem.rdchem.Mol object at 0x0000020292951A10>, <rdkit.Chem.rdchem.Mol object at 0x0000020292953610>, <rdkit.Chem.rdchem.Mol object at 0x00000202929536F0>, <rdkit.Chem.rdchem.Mol object at 0x00000202929537D0>, <rdkit.Chem.rdchem.Mol object at 0x0000020292953840>, <rdkit.Chem.rdchem.Mol object at 0x00000202929538B0>]\n"
     ]
    }
   ],
   "source": [
    "mol_list = []\n",
    "for item in chem['Smiles']:\n",
    "    mol = Chem.MolFromSmiles(item)\n",
    "    mol_list.append(mol)\n",
    "print(mol_list)"
   ]
  },
  {
   "cell_type": "code",
   "execution_count": 8,
   "id": "73afa966",
   "metadata": {},
   "outputs": [],
   "source": [
    "tocut = []\n",
    "Smiles = []\n",
    "for item in chem['Smiles']:\n",
    "    if '.' in item:      #counting 0.    4, 14, 15\n",
    "        new = item.split('.')\n",
    "        mainmol = max(new, key = len)\n",
    "        Smiles.append(mainmol)\n",
    "    else:\n",
    "        Smiles.append(item)\n"
   ]
  },
  {
   "cell_type": "code",
   "execution_count": 62,
   "id": "4a4d1b76",
   "metadata": {},
   "outputs": [
    {
     "data": {
      "text/plain": [
       "['CC(C)(C#N)C1=CC=C(C=C1)N2C3=C4C=C(C=CC4=NC=C3COC2=O)C5=CC6=CC=CC=C6N=C5',\n",
       " 'C1CC1NC(=O)NC2=C(NN=C2)C3=NC4=C(N3)C=C(C=C4)CN5CCOCC5',\n",
       " 'COC1=CC2=NC=CC(=C2C=C1C(=O)N)OC3=CC(=C(C=C3)NC(=O)NC4CC4)Cl',\n",
       " 'CC1=CC2=C(N1)C=CC(=C2F)OC3=NC=NC4=CC(=C(C=C43)OC)OCCCN5CCCC5',\n",
       " 'CC1=C(C=C(C=C1)NC(=O)C2=CC=C(C=C2)CN3CCN(CC3)C)NC4=NC=CC(=N4)C5=CN=CC=C5',\n",
       " 'CC1CCC2CC(C(=CC=CC=CC(CC(C(=O)C(C(C(=CC(C(=O)CC(OC(=O)C3CCCCN3C(=O)C(=O)C1(O2)O)C(C)CC4CCC(C(C4)OC)O)C)C)O)OC)C)C)C)OC',\n",
       " 'CN1C=C(C2=CC=CC=C21)C3=C(C(=O)NC3=O)C4=CN(C5=CC=CC=C54)C6CCN(CC6)CC7=CC=CC=N7',\n",
       " 'CN1C=C(C2=CC=CC=C21)C3=C(C(=O)NC3=O)C4=C(C=C(C=C4)Cl)Cl',\n",
       " 'C1COCCN1C2=CC(=O)C=C(O2)C3=C4C(=CC=C3)SC5=CC=CC=C5S4',\n",
       " 'C1COCCN1C2=CC(=O)C3=C(O2)C(=CC=C3)C4=CC=CC=C4',\n",
       " 'CN1C=C(C=N1)C2=NN3C(=NN=C3C(C4=CC5=C(C=C4)N=CC=C5)(F)F)C=C2',\n",
       " 'CNC(=O)C1=CC=CC=C1SC2=CC3=C(C=C2)C(=NN3)C=CC4=CC=CC=N4',\n",
       " 'CC1=CC2=C(N1)C=CC(=C2F)OC3=NC=NN4C3=C(C(=C4)OCC(C)OC(=O)C(C)N)C',\n",
       " 'C1CCN(C1)CCOC2=C3COCC=CCOCC4=CC(=CC=C4)C5=NC(=NC=C5)NC(=C3)C=C2',\n",
       " 'CS(=O)(=O)CCNCC1=CC=C(O1)C2=CC3=C(C=C2)N=CN=C3NC4=CC(=C(C=C4)OCC5=CC(=CC=C5)F)Cl',\n",
       " 'CNC(=O)C1=NC=CC(=C1)OC2=CC=C(C=C2)NC(=O)NC3=CC(=C(C=C3)Cl)C(F)(F)F',\n",
       " 'CC1=C2C(=NC=NN2C=C1NC(=O)OCC3COCCN3)NC4=CC5=C(C=C4)N(N=C5)CC6=CC(=CC=C6)F',\n",
       " 'CS(=O)C1=CC=C(C=C1)C2=NC(=C(N2)C3=CC=NC=C3)C4=CC=C(C=C4)F',\n",
       " 'CCC1=CC(=C(C=C1N2CCC(CC2)N3CCN(CC3)S(=O)(=O)C)OC)NC4=NC=CC(=N4)C5=C(N=C6N5C=CC=C6)C7=CC(=C(C=C7)OC)C(=O)NC8=C(C=CC=C8F)F',\n",
       " 'C1=CC=C2C(=C1)C=CC3=C2C=CC(=C3)C4=CC(=NN4C5=CC=C(C=C5)NC(=O)CN)C(F)(F)F']"
      ]
     },
     "execution_count": 62,
     "metadata": {},
     "output_type": "execute_result"
    }
   ],
   "source": [
    "Smiles"
   ]
  },
  {
   "cell_type": "code",
   "execution_count": null,
   "id": "83482277",
   "metadata": {
    "scrolled": true
   },
   "outputs": [],
   "source": [
    "Draw.MolsToGridImage(mol_list, subImgSize=(500,500),molsPerRow = 4)"
   ]
  },
  {
   "cell_type": "code",
   "execution_count": 8,
   "id": "c636cb8f",
   "metadata": {},
   "outputs": [],
   "source": [
    "a = 'CC1=C(C=C(C=C1)NC(=O)C2=CC=C(C=C2)CN3CCN(CC3)C)NC4=NC=CC(=N4)C5=CN=CC=C5.CS(=O)(=O)O'"
   ]
  },
  {
   "cell_type": "code",
   "execution_count": null,
   "id": "56f24c1b",
   "metadata": {},
   "outputs": [],
   "source": [
    "mol = Chem.MolFromSmiles(a)\n",
    "mol"
   ]
  },
  {
   "cell_type": "code",
   "execution_count": null,
   "id": "4d74f1b7",
   "metadata": {},
   "outputs": [],
   "source": [
    "getAtom = mol.GetNumAtoms()\n",
    "getAtom"
   ]
  },
  {
   "cell_type": "code",
   "execution_count": 39,
   "id": "4fbbed5f",
   "metadata": {},
   "outputs": [],
   "source": [
    "x = Descriptors.TPSA(mol)"
   ]
  },
  {
   "cell_type": "code",
   "execution_count": null,
   "id": "498ef759",
   "metadata": {},
   "outputs": [],
   "source": [
    "x "
   ]
  },
  {
   "cell_type": "code",
   "execution_count": 42,
   "id": "0af6859b",
   "metadata": {},
   "outputs": [],
   "source": [
    "y = Descriptors.MolWt(mol)"
   ]
  },
  {
   "cell_type": "code",
   "execution_count": 111,
   "id": "ca507835",
   "metadata": {},
   "outputs": [],
   "source": [
    "z = Descriptors.CalcMolDescriptors(mol)"
   ]
  },
  {
   "cell_type": "code",
   "execution_count": null,
   "id": "c7db28b3",
   "metadata": {},
   "outputs": [],
   "source": [
    "z"
   ]
  },
  {
   "cell_type": "code",
   "execution_count": null,
   "id": "f4c600d0",
   "metadata": {},
   "outputs": [],
   "source": [
    "getProp"
   ]
  },
  {
   "cell_type": "code",
   "execution_count": null,
   "id": "0674425e",
   "metadata": {},
   "outputs": [],
   "source": [
    "# MolWt\n",
    "# TPSA\n",
    "# NumHAcceptors\n",
    "# NumHDonors\n",
    "# NumRotatableBonds\n",
    "# RingCount"
   ]
  },
  {
   "cell_type": "code",
   "execution_count": 19,
   "id": "62ef89a6",
   "metadata": {},
   "outputs": [],
   "source": [
    "nameslist = []\n",
    "for name in chem['iGLUE']:\n",
    "    nameslist.append(name)\n",
    "# print(nameslist)"
   ]
  },
  {
   "cell_type": "code",
   "execution_count": 45,
   "id": "8195de27",
   "metadata": {},
   "outputs": [],
   "source": [
    "listmain = []\n",
    "\n",
    "for mol in mol_list:\n",
    "    \n",
    "    getProp = Descriptors.CalcMolDescriptors(mol)\n",
    "    mw = getProp['MolWt']\n",
    "    #tpsa = getProp['TPSA']\n",
    "    nha = getProp['NumHAcceptors']\n",
    "    nhd = getProp['NumHDonors']\n",
    "    #nrb = getProp['NumRotatableBonds']\n",
    "    #rc = getProp['RingCount']\n",
    "    mlp = getProp['MolLogP']\n",
    "    \n",
    "    listnew = []\n",
    "    listnew.append(mw)\n",
    "    #listnew.append(tpsa)\n",
    "    listnew.append(nha)\n",
    "    listnew.append(nhd)\n",
    "    listnew.append(mlp)\n",
    "    #listnew.append(nrb)\n",
    "    #listnew.append(rc)\n",
    "    \n",
    "    listmain.append(listnew)\n",
    "\n",
    "MW = []\n",
    "TPSA = []\n",
    "NHA = []\n",
    "NHD = []\n",
    "NRB = []\n",
    "RC = []\n",
    "MLP = []\n",
    "\n",
    "for x in listmain:\n",
    "    MW.append(x[0])\n",
    "    #TPSA.append(x[1])\n",
    "    NHA.append(x[1])\n",
    "    NHD.append(x[2])\n",
    "    MLP.append(x[3])\n",
    "    #NRB.append(x[4])\n",
    "        \n",
    "    #RC.append(x[5])"
   ]
  },
  {
   "cell_type": "code",
   "execution_count": 56,
   "id": "307f7955",
   "metadata": {},
   "outputs": [],
   "source": [
    "def orallybioactive(df):\n",
    "    yayornay = []\n",
    "    violations = []\n",
    "    OBA = []\n",
    "\n",
    "    for drug in range(len(df)):\n",
    "        criteria = []\n",
    "    \n",
    "        x = df['MolWt'][drug]\n",
    "        y = df['NumHAcceptors'][drug]\n",
    "        z = df['NumHDonors'][drug]\n",
    "        q = df['MolLogP'][drug]\n",
    "\n",
    "        if x<float(500):\n",
    "            criteria.append(\"Yes\")\n",
    "        else:\n",
    "            criteria.append(\"No\")\n",
    "        \n",
    "        if y<10:\n",
    "            criteria.append(\"Yes\")\n",
    "        else:\n",
    "            criteria.append(\"No\")\n",
    "        \n",
    "        if z<5:\n",
    "            criteria.append(\"Yes\")\n",
    "        else:\n",
    "            criteria.append(\"No\")\n",
    "        \n",
    "        if q<float(5):\n",
    "            criteria.append(\"Yes\")\n",
    "        else:\n",
    "            criteria.append(\"No\")\n",
    "        \n",
    "        yayornay.append(criteria)\n",
    "\n",
    "   \n",
    "    for cri in yayornay:\n",
    "        count = 0\n",
    "        for no in cri:\n",
    "            if no == 'No':\n",
    "                count += 1\n",
    "        violations.append(count)\n",
    "#         violations.append(count)\n",
    "        if count>1:\n",
    "            OBA.append(\"No\")\n",
    "        else:\n",
    "            OBA.append(\"Yes\")     \n",
    "        "
   ]
  },
  {
   "cell_type": "code",
   "execution_count": 57,
   "id": "4e456945",
   "metadata": {},
   "outputs": [],
   "source": [
    "orallybioactive(df)"
   ]
  },
  {
   "cell_type": "code",
   "execution_count": 58,
   "id": "4fc686cb",
   "metadata": {},
   "outputs": [],
   "source": [
    "df = pd.DataFrame()\n",
    "\n",
    "df['iGLUE'] = nameslist\n",
    "df['Smiles'] = Smiles\n",
    "df['MolWt'] = MW\n",
    " #df['TPSA'] = TPSA\n",
    "df['NumHAcceptors'] = NHA\n",
    "df['NumHDonors'] = NHD\n",
    "df['MolLogP'] = MLP\n",
    "#df['NumRotatableBonds'] = NRB\n",
    "#df['RingCount'] = RC\n",
    "df['OrallyBioActive?'] = OBA\n",
    "df['NoOfViolations'] = violations\n",
    "\n",
    "# df['Properties'] = listmain"
   ]
  },
  {
   "cell_type": "code",
   "execution_count": null,
   "id": "5d540726",
   "metadata": {},
   "outputs": [],
   "source": [
    "df"
   ]
  },
  {
   "cell_type": "code",
   "execution_count": null,
   "id": "0fc55c29",
   "metadata": {},
   "outputs": [],
   "source": [
    "# test_data = pd.read_csv"
   ]
  },
  {
   "cell_type": "code",
   "execution_count": null,
   "id": "5f7d4ab8",
   "metadata": {},
   "outputs": [],
   "source": [
    "# test_data = r05_model()"
   ]
  },
  {
   "cell_type": "code",
   "execution_count": 90,
   "id": "f97f61fd",
   "metadata": {},
   "outputs": [],
   "source": [
    "from rdkit import Chem\n",
    "from rdkit.Chem import rdChemReactions as rd\n",
    "from rdkit.Chem import DataStructs as ds"
   ]
  },
  {
   "cell_type": "code",
   "execution_count": null,
   "id": "620c0f76",
   "metadata": {},
   "outputs": [],
   "source": [
    "Chem.MolFromSmiles('CCCCO')"
   ]
  },
  {
   "cell_type": "code",
   "execution_count": null,
   "id": "3bf75808",
   "metadata": {},
   "outputs": [],
   "source": [
    "rd.ReactionFromMolecule(mol)"
   ]
  },
  {
   "cell_type": "code",
   "execution_count": 8,
   "id": "8333cfd9",
   "metadata": {},
   "outputs": [],
   "source": [
    "from rdkit.Chem import AllChem"
   ]
  },
  {
   "cell_type": "code",
   "execution_count": 11,
   "id": "5087d2d2",
   "metadata": {},
   "outputs": [],
   "source": [
    "from rdkit import DataStructs\n",
    "#ms = [Chem.MolFromSmiles('CCOC'), Chem.MolFromSmiles('CCO'),Chem.MolFromSmiles('COC')]\n",
    "fpgen = AllChem.GetRDKitFPGenerator()\n",
    "fps = [fpgen.GetFingerprint(x) for x in mol_list]"
   ]
  },
  {
   "cell_type": "code",
   "execution_count": 12,
   "id": "0228c47c",
   "metadata": {},
   "outputs": [
    {
     "data": {
      "text/plain": [
       "[<rdkit.DataStructs.cDataStructs.ExplicitBitVect at 0x20292952dc0>,\n",
       " <rdkit.DataStructs.cDataStructs.ExplicitBitVect at 0x20292953b50>,\n",
       " <rdkit.DataStructs.cDataStructs.ExplicitBitVect at 0x20292953bc0>,\n",
       " <rdkit.DataStructs.cDataStructs.ExplicitBitVect at 0x20292953c30>,\n",
       " <rdkit.DataStructs.cDataStructs.ExplicitBitVect at 0x20292953ca0>,\n",
       " <rdkit.DataStructs.cDataStructs.ExplicitBitVect at 0x20292952ce0>,\n",
       " <rdkit.DataStructs.cDataStructs.ExplicitBitVect at 0x20292953d10>,\n",
       " <rdkit.DataStructs.cDataStructs.ExplicitBitVect at 0x20292953d80>,\n",
       " <rdkit.DataStructs.cDataStructs.ExplicitBitVect at 0x20292953df0>,\n",
       " <rdkit.DataStructs.cDataStructs.ExplicitBitVect at 0x20292953e60>,\n",
       " <rdkit.DataStructs.cDataStructs.ExplicitBitVect at 0x20292953ed0>,\n",
       " <rdkit.DataStructs.cDataStructs.ExplicitBitVect at 0x20292953f40>,\n",
       " <rdkit.DataStructs.cDataStructs.ExplicitBitVect at 0x20292a18040>,\n",
       " <rdkit.DataStructs.cDataStructs.ExplicitBitVect at 0x20292a180b0>,\n",
       " <rdkit.DataStructs.cDataStructs.ExplicitBitVect at 0x20292a18120>,\n",
       " <rdkit.DataStructs.cDataStructs.ExplicitBitVect at 0x20292a18190>,\n",
       " <rdkit.DataStructs.cDataStructs.ExplicitBitVect at 0x20292a18200>,\n",
       " <rdkit.DataStructs.cDataStructs.ExplicitBitVect at 0x20292a18270>,\n",
       " <rdkit.DataStructs.cDataStructs.ExplicitBitVect at 0x20292a182e0>,\n",
       " <rdkit.DataStructs.cDataStructs.ExplicitBitVect at 0x20292a18350>]"
      ]
     },
     "execution_count": 12,
     "metadata": {},
     "output_type": "execute_result"
    }
   ],
   "source": [
    "fps"
   ]
  },
  {
   "cell_type": "code",
   "execution_count": 13,
   "id": "caffce15",
   "metadata": {},
   "outputs": [],
   "source": [
    "values = []\n",
    "for mole in fps:\n",
    "    for Mole in fps:\n",
    "      value = DataStructs.TanimotoSimilarity(mole,Mole)  \n",
    "      values.append(value)\n"
   ]
  },
  {
   "cell_type": "code",
   "execution_count": 26,
   "id": "793bdc2a",
   "metadata": {},
   "outputs": [],
   "source": [
    "# DataStructs.TanimotoSimilarity(fps[6],fps[5])\n",
    "\n"
   ]
  },
  {
   "cell_type": "code",
   "execution_count": 20,
   "id": "1c583954",
   "metadata": {},
   "outputs": [],
   "source": [
    "values1 = []\n",
    "values2 = []\n",
    "values3 = []\n",
    "values4 = []\n",
    "values5 = []\n",
    "values6 = []\n",
    "values7 = []\n",
    "values8 = []\n",
    "values9 = []\n",
    "values10 = []\n",
    "values11 = []\n",
    "values12 = []\n",
    "values13 = []\n",
    "values14 = []\n",
    "values15 = []\n",
    "values16 = []\n",
    "values17 = []\n",
    "values18 = []\n",
    "values19 = []\n",
    "values20 = []\n",
    "for mole in fps[0:1]:\n",
    "    for Mole in fps:\n",
    "      value = DataStructs.TanimotoSimilarity(mole,Mole)  \n",
    "      values1.append(value)\n",
    "for mole in fps[1:2]:\n",
    "    for Mole in fps:\n",
    "      value = DataStructs.TanimotoSimilarity(mole,Mole)  \n",
    "      values2.append(value)\n",
    "for mole in fps[2:3]:\n",
    "    for Mole in fps:\n",
    "      value = DataStructs.TanimotoSimilarity(mole,Mole)  \n",
    "      values3.append(value)\n",
    "for mole in fps[3:4]:\n",
    "    for Mole in fps:\n",
    "      value = DataStructs.TanimotoSimilarity(mole,Mole)  \n",
    "      values4.append(value)\n",
    "for mole in fps[4:5]:\n",
    "    for Mole in fps:\n",
    "      value = DataStructs.TanimotoSimilarity(mole,Mole)  \n",
    "      values5.append(value)\n",
    "for mole in fps[5:6]:\n",
    "    for Mole in fps:\n",
    "      value = DataStructs.TanimotoSimilarity(mole,Mole)  \n",
    "      values6.append(value)\n",
    "for mole in fps[6:7]:\n",
    "    for Mole in fps:\n",
    "      value = DataStructs.TanimotoSimilarity(mole,Mole)  \n",
    "      values7.append(value)\n",
    "for mole in fps[7:8]:\n",
    "    for Mole in fps:\n",
    "      value = DataStructs.TanimotoSimilarity(mole,Mole)  \n",
    "      values8.append(value)\n",
    "for mole in fps[8:9]:\n",
    "    for Mole in fps:\n",
    "      value = DataStructs.TanimotoSimilarity(mole,Mole)  \n",
    "      values9.append(value)\n",
    "for mole in fps[9:10]:\n",
    "    for Mole in fps:\n",
    "      value = DataStructs.TanimotoSimilarity(mole,Mole)  \n",
    "      values10.append(value)\n",
    "for mole in fps[10:11]:\n",
    "    for Mole in fps:\n",
    "      value = DataStructs.TanimotoSimilarity(mole,Mole)  \n",
    "      values11.append(value)\n",
    "for mole in fps[11:12]:\n",
    "    for Mole in fps:\n",
    "      value = DataStructs.TanimotoSimilarity(mole,Mole)  \n",
    "      values12.append(value)\n",
    "for mole in fps[12:13]:\n",
    "    for Mole in fps:\n",
    "      value = DataStructs.TanimotoSimilarity(mole,Mole)  \n",
    "      values13.append(value)\n",
    "for mole in fps[13:14]:\n",
    "    for Mole in fps:\n",
    "      value = DataStructs.TanimotoSimilarity(mole,Mole)  \n",
    "      values14.append(value)\n",
    "for mole in fps[14:15]:\n",
    "    for Mole in fps:\n",
    "      value = DataStructs.TanimotoSimilarity(mole,Mole)  \n",
    "      values15.append(value)\n",
    "for mole in fps[15:16]:\n",
    "    for Mole in fps:\n",
    "      value = DataStructs.TanimotoSimilarity(mole,Mole)  \n",
    "      values16.append(value)\n",
    "for mole in fps[16:17]:\n",
    "    for Mole in fps:\n",
    "      value = DataStructs.TanimotoSimilarity(mole,Mole)  \n",
    "      values17.append(value)\n",
    "for mole in fps[17:18]:\n",
    "    for Mole in fps:\n",
    "      value = DataStructs.TanimotoSimilarity(mole,Mole)  \n",
    "      values18.append(value)\n",
    "for mole in fps[18:19]:\n",
    "    for Mole in fps:\n",
    "      value = DataStructs.TanimotoSimilarity(mole,Mole)  \n",
    "      values19.append(value)\n",
    "for mole in fps[19:20]:\n",
    "    for Mole in fps:\n",
    "      value = DataStructs.TanimotoSimilarity(mole,Mole)  \n",
    "      values20.append(value)"
   ]
  },
  {
   "cell_type": "code",
   "execution_count": 22,
   "id": "33fef6a2",
   "metadata": {},
   "outputs": [],
   "source": [
    "chem1 = []\n",
    "chem2 = []\n",
    "chem3 = []\n",
    "chem4 = []\n",
    "chem5 = []\n",
    "chem6 = []\n",
    "chem7 = []\n",
    "chem8 = []\n",
    "chem9 = []\n",
    "chem10 = []\n",
    "chem11 = []\n",
    "chem12 = []\n",
    "chem13 = []\n",
    "chem14 = []\n",
    "chem15 = []\n",
    "chem16 = []\n",
    "chem17 = []\n",
    "chem18 = []\n",
    "chem19 = []\n",
    "chem20 = []\n",
    "\n",
    "for y in values1:\n",
    "    for z in nameslist:\n",
    "        if values1.index(y)==nameslist.index(z):\n",
    "            abc = {z:y}\n",
    "            chem1.append(abc)\n",
    "for y in values2:\n",
    "    for z in nameslist:\n",
    "        if values2.index(y)==nameslist.index(z):\n",
    "            abc = {z:y}\n",
    "            chem2.append(abc)\n",
    "for y in values3:\n",
    "    for z in nameslist:\n",
    "        if values3.index(y)==nameslist.index(z):\n",
    "            abc = {z:y}\n",
    "            chem3.append(abc)\n",
    "for y in values4:\n",
    "    for z in nameslist:\n",
    "        if values4.index(y)==nameslist.index(z):\n",
    "            abc = {z:y}\n",
    "            chem4.append(abc)\n",
    "for y in values5:\n",
    "    for z in nameslist:\n",
    "        if values5.index(y)==nameslist.index(z):\n",
    "            abc = {z:y}\n",
    "            chem5.append(abc)\n",
    "for y in values6:\n",
    "    for z in nameslist:\n",
    "        if values6.index(y)==nameslist.index(z):\n",
    "            abc = {z:y}\n",
    "            chem6.append(abc)\n",
    "for y in values7:\n",
    "    for z in nameslist:\n",
    "        if values7.index(y)==nameslist.index(z):\n",
    "            abc = {z:y}\n",
    "            chem7.append(abc)\n",
    "for y in values8:\n",
    "    for z in nameslist:\n",
    "        if values8.index(y)==nameslist.index(z):\n",
    "            abc = {z:y}\n",
    "            chem8.append(abc)\n",
    "for y in values9:\n",
    "    for z in nameslist:\n",
    "        if values9.index(y)==nameslist.index(z):\n",
    "            abc = {z:y}\n",
    "            chem9.append(abc)\n",
    "for y in values10:\n",
    "    for z in nameslist:\n",
    "        if values10.index(y)==nameslist.index(z):\n",
    "            abc = {z:y}\n",
    "            chem10.append(abc)\n",
    "for y in values11:\n",
    "    for z in nameslist:\n",
    "        if values11.index(y)==nameslist.index(z):\n",
    "            abc = {z:y}\n",
    "            chem11.append(abc)\n",
    "for y in values12:\n",
    "    for z in nameslist:\n",
    "        if values12.index(y)==nameslist.index(z):\n",
    "            abc = {z:y}\n",
    "            chem12.append(abc)\n",
    "for y in values13:\n",
    "    for z in nameslist:\n",
    "        if values13.index(y)==nameslist.index(z):\n",
    "            abc = {z:y}\n",
    "            chem13.append(abc)\n",
    "for y in values14:\n",
    "    for z in nameslist:\n",
    "        if values14.index(y)==nameslist.index(z):\n",
    "            abc = {z:y}\n",
    "            chem14.append(abc)\n",
    "for y in values15:\n",
    "    for z in nameslist:\n",
    "        if values15.index(y)==nameslist.index(z):\n",
    "            abc = {z:y}\n",
    "            chem15.append(abc)\n",
    "for y in values16:\n",
    "    for z in nameslist:\n",
    "        if values16.index(y)==nameslist.index(z):\n",
    "            abc = {z:y}\n",
    "            chem16.append(abc)\n",
    "for y in values17:\n",
    "    for z in nameslist:\n",
    "        if values17.index(y)==nameslist.index(z):\n",
    "            abc = {z:y}\n",
    "            chem17.append(abc)\n",
    "for y in values18:\n",
    "    for z in nameslist:\n",
    "        if values18.index(y)==nameslist.index(z):\n",
    "            abc = {z:y}\n",
    "            chem18.append(abc)\n",
    "for y in values19:\n",
    "    for z in nameslist:\n",
    "        if values19.index(y)==nameslist.index(z):\n",
    "            abc = {z:y}\n",
    "            chem19.append(abc)\n",
    "for y in values20:\n",
    "    for z in nameslist:\n",
    "        if values20.index(y)==nameslist.index(z):\n",
    "            abc = {z:y}\n",
    "            chem20.append(abc)"
   ]
  },
  {
   "cell_type": "code",
   "execution_count": 24,
   "id": "6483e3f4",
   "metadata": {},
   "outputs": [],
   "source": [
    "glue1 = {}\n",
    "glue2 = {}\n",
    "glue3 = {}\n",
    "glue4 = {}\n",
    "glue5 = {}\n",
    "glue6 = {}\n",
    "glue7 = {}\n",
    "glue8 = {}\n",
    "glue9 = {}\n",
    "glue10 = {}\n",
    "glue11 = {}\n",
    "glue12 = {}\n",
    "glue13 = {}\n",
    "glue14 = {}\n",
    "glue15 = {}\n",
    "glue16 = {}\n",
    "glue17 = {}\n",
    "glue18 = {}\n",
    "glue19 = {}\n",
    "glue20 = {}\n",
    "\n",
    "glue1.update({nameslist[0]:chem1})\n",
    "glue2.update({nameslist[1]:chem2})\n",
    "glue3.update({nameslist[2]:chem3})\n",
    "glue4.update({nameslist[3]:chem4})\n",
    "glue5.update({nameslist[4]:chem5})\n",
    "glue6.update({nameslist[5]:chem6})\n",
    "glue7.update({nameslist[6]:chem7})\n",
    "glue8.update({nameslist[7]:chem8})\n",
    "glue9.update({nameslist[8]:chem9})\n",
    "glue10.update({nameslist[9]:chem10})\n",
    "glue11.update({nameslist[10]:chem11})\n",
    "glue12.update({nameslist[11]:chem12})\n",
    "glue13.update({nameslist[12]:chem13})\n",
    "glue14.update({nameslist[13]:chem14})\n",
    "glue15.update({nameslist[14]:chem15})\n",
    "glue16.update({nameslist[15]:chem16})\n",
    "glue17.update({nameslist[16]:chem17})\n",
    "glue18.update({nameslist[17]:chem18})\n",
    "glue19.update({nameslist[18]:chem19})\n",
    "glue20.update({nameslist[19]:chem20})"
   ]
  },
  {
   "cell_type": "code",
   "execution_count": 27,
   "id": "49b29667",
   "metadata": {},
   "outputs": [
    {
     "data": {
      "text/plain": [
       "{'Cediranib (AZD2171)': [{'ETP-46464': 0.3992443324937028},\n",
       "  {'AT9283': 0.35285815102328866},\n",
       "  {'Lenvatinib (E7080)': 0.4633431085043988},\n",
       "  {'Cediranib (AZD2171)': 1.0},\n",
       "  {'Imatinib Mesylate (STI571)': 0.3344875346260388},\n",
       "  {'Rapamycin (Sirolimus)': 0.38519924098671726},\n",
       "  {'Enzastaurin (LY317615)': 0.4250309789343247},\n",
       "  {'SB216763': 0.4263959390862944},\n",
       "  {'KU-55933 (ATM Kinase Inhibitor)': 0.3221122112211221},\n",
       "  {'LY294002': 0.29531140657802657},\n",
       "  {'JNJ-38877605': 0.42034548944337813},\n",
       "  {'Axitinib': 0.34144595561918395},\n",
       "  {'Brivanib Alaninate (BMS-582664)': 0.608016304347826},\n",
       "  {'Pacritinib (SB1518)': 0.35520684736091296},\n",
       "  {'Lapatinib (GW-572016) Ditosylate': 0.43186180422264875},\n",
       "  {'Sorafenib Tosylate': 0.34967555875991346},\n",
       "  {'AC480 (BMS-599626)': 0.44477611940298506},\n",
       "  {'SB203580': 0.2611320754716981},\n",
       "  {'GSK1904529A': 0.46170921198668147},\n",
       "  {'OSU-03012 (AR-12)': 0.3302013422818792}]}"
      ]
     },
     "execution_count": 27,
     "metadata": {},
     "output_type": "execute_result"
    }
   ],
   "source": [
    "glue"
   ]
  },
  {
   "cell_type": "code",
   "execution_count": null,
   "id": "1fb7fd46",
   "metadata": {},
   "outputs": [],
   "source": []
  }
 ],
 "metadata": {
  "kernelspec": {
   "display_name": "Python 3 (ipykernel)",
   "language": "python",
   "name": "python3"
  },
  "language_info": {
   "codemirror_mode": {
    "name": "ipython",
    "version": 3
   },
   "file_extension": ".py",
   "mimetype": "text/x-python",
   "name": "python",
   "nbconvert_exporter": "python",
   "pygments_lexer": "ipython3",
   "version": "3.10.14"
  }
 },
 "nbformat": 4,
 "nbformat_minor": 5
}
