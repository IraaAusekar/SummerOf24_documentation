{
 "cells": [
  {
   "cell_type": "markdown",
   "id": "14cf041a",
   "metadata": {},
   "source": [
    "# day 1"
   ]
  },
  {
   "cell_type": "code",
   "execution_count": null,
   "id": "01f8806b",
   "metadata": {},
   "outputs": [],
   "source": [
    "print('hello world')"
   ]
  },
  {
   "cell_type": "code",
   "execution_count": null,
   "id": "98bd1154",
   "metadata": {},
   "outputs": [],
   "source": [
    "a = 5 + 7\n",
    "print(a)"
   ]
  },
  {
   "cell_type": "code",
   "execution_count": null,
   "id": "bc65e54b",
   "metadata": {},
   "outputs": [],
   "source": [
    "x = \"vaniglia\"\n",
    "type(x)"
   ]
  },
  {
   "cell_type": "code",
   "execution_count": null,
   "id": "fbdda398",
   "metadata": {},
   "outputs": [],
   "source": [
    "x=5\n",
    "x+1"
   ]
  },
  {
   "cell_type": "code",
   "execution_count": null,
   "id": "40291345",
   "metadata": {},
   "outputs": [],
   "source": [
    "x=5\n",
    "for x in range(0,8):\n",
    "    x+=1\n",
    "    print(x)"
   ]
  },
  {
   "cell_type": "code",
   "execution_count": null,
   "id": "18ff97e0",
   "metadata": {},
   "outputs": [],
   "source": [
    "def generate_range(x,y):\n",
    "    temp_list = []\n",
    "    for i in range(x,y):\n",
    "        i+=1\n",
    "        #print(i)\n",
    "        temp_list.append(i)\n",
    "    \n",
    "    return(temp_list)\n",
    "    "
   ]
  },
  {
   "cell_type": "code",
   "execution_count": null,
   "id": "b5294418",
   "metadata": {},
   "outputs": [],
   "source": [
    "def generate_range():\n",
    "    x = int(input('please type in your lower limit value: '))\n",
    "    y =  int(input('please type in your upper limit value: '))\n",
    "    \n",
    "    temp_list = []\n",
    "    for i in range(x,y):\n",
    "        i+=1\n",
    "        #print(i)\n",
    "        temp_list.append(i)\n",
    "    \n",
    "    return(temp_list)\n",
    "    "
   ]
  },
  {
   "cell_type": "code",
   "execution_count": null,
   "id": "7735a93d",
   "metadata": {},
   "outputs": [],
   "source": [
    "def fibonacci():\n",
    "    x = int(input('how many numbers do you want in your sequence?: '))\n",
    "    print(\"The 1st value of the sequence is 0\")\n",
    "    print(\"The 2nd value of the sequence is 1\")\n",
    "    list4 = [0,1]\n",
    "   \n",
    "    for y in range(x-2):\n",
    "        z= (list4[-1] + list4[-2])\n",
    "        print(\"The \" + str(y+3) +\"th value of the sequence is \" + str(z))\n",
    "        \n",
    "        list4.append(z)\n",
    "\n",
    "    return(list4)\n",
    "\n"
   ]
  },
  {
   "cell_type": "code",
   "execution_count": null,
   "id": "8825244f",
   "metadata": {},
   "outputs": [],
   "source": [
    "fib_50=fibonacci()"
   ]
  },
  {
   "cell_type": "code",
   "execution_count": null,
   "id": "48e27902",
   "metadata": {},
   "outputs": [],
   "source": [
    "fib_50"
   ]
  },
  {
   "cell_type": "code",
   "execution_count": null,
   "id": "7154d3d7",
   "metadata": {},
   "outputs": [],
   "source": [
    "x = generate_range(10,20)"
   ]
  },
  {
   "cell_type": "code",
   "execution_count": null,
   "id": "4b8b9258",
   "metadata": {},
   "outputs": [],
   "source": [
    "x = generate_range()"
   ]
  },
  {
   "cell_type": "code",
   "execution_count": null,
   "id": "3e76d59b",
   "metadata": {},
   "outputs": [],
   "source": [
    "len(x)"
   ]
  },
  {
   "cell_type": "code",
   "execution_count": null,
   "id": "a2f5fab9",
   "metadata": {},
   "outputs": [],
   "source": [
    "x"
   ]
  },
  {
   "cell_type": "code",
   "execution_count": null,
   "id": "e428048a",
   "metadata": {},
   "outputs": [],
   "source": [
    "x[5]"
   ]
  },
  {
   "cell_type": "code",
   "execution_count": null,
   "id": "242b1bc9",
   "metadata": {},
   "outputs": [],
   "source": [
    "x.remove(17)"
   ]
  },
  {
   "cell_type": "code",
   "execution_count": null,
   "id": "db0b3290",
   "metadata": {},
   "outputs": [],
   "source": [
    "len(x)"
   ]
  },
  {
   "cell_type": "code",
   "execution_count": null,
   "id": "3a910fa0",
   "metadata": {},
   "outputs": [],
   "source": [
    "x"
   ]
  },
  {
   "cell_type": "code",
   "execution_count": null,
   "id": "64fbe879",
   "metadata": {},
   "outputs": [],
   "source": [
    "new_list =['Iraa', 5, 11, 'India']"
   ]
  },
  {
   "cell_type": "code",
   "execution_count": null,
   "id": "a6dfefae",
   "metadata": {},
   "outputs": [],
   "source": [
    "new_list[3]"
   ]
  },
  {
   "cell_type": "code",
   "execution_count": null,
   "id": "06f50bad",
   "metadata": {},
   "outputs": [],
   "source": [
    "new_list.append(str(5))"
   ]
  },
  {
   "cell_type": "code",
   "execution_count": null,
   "id": "3d5e038e",
   "metadata": {},
   "outputs": [],
   "source": [
    "new_list"
   ]
  },
  {
   "cell_type": "code",
   "execution_count": null,
   "id": "24bc3114",
   "metadata": {},
   "outputs": [],
   "source": [
    "12.0/3"
   ]
  },
  {
   "cell_type": "code",
   "execution_count": null,
   "id": "e3f7167f",
   "metadata": {},
   "outputs": [],
   "source": [
    "4*22*5**3/3/7"
   ]
  },
  {
   "cell_type": "code",
   "execution_count": null,
   "id": "c7d2d6a8",
   "metadata": {},
   "outputs": [],
   "source": [
    "x = (8.15)+(3*7.12)+(8.15)\n",
    "#if int(x[3:5])>=60\n",
    "   # x[3:5]=str()\n",
    "print(x)\n"
   ]
  },
  {
   "cell_type": "code",
   "execution_count": null,
   "id": "72ef9e2e",
   "metadata": {},
   "outputs": [],
   "source": [
    "def intended_greeting():\n",
    "    #print(\"Good morning. It's 7 A.M. The weather is 72 degrees with scattered clouds.\")\n",
    "    #print('Am I getting printed?')\n",
    "    \n",
    "    x = \"Good morning. It's 7 A.M. The weather is 72 degrees with scattered clouds.\"\n",
    "    #return(\"Good morning. It's 7 A.M. The weather is 72 degrees with scattered clouds.\")\n",
    "    return(x)\n",
    "    \n",
    "\n",
    "\n",
    "intended_greeting()"
   ]
  },
  {
   "cell_type": "code",
   "execution_count": null,
   "id": "37a30b95",
   "metadata": {},
   "outputs": [],
   "source": [
    "print(type(y))"
   ]
  },
  {
   "cell_type": "code",
   "execution_count": null,
   "id": "a93141d4",
   "metadata": {},
   "outputs": [],
   "source": [
    "y = intended_greeting()"
   ]
  },
  {
   "cell_type": "code",
   "execution_count": null,
   "id": "d8b452d6",
   "metadata": {},
   "outputs": [],
   "source": [
    "y + ' I added something'"
   ]
  },
  {
   "cell_type": "code",
   "execution_count": null,
   "id": "5e8fb842",
   "metadata": {},
   "outputs": [],
   "source": [
    "y + str(5)"
   ]
  },
  {
   "cell_type": "markdown",
   "id": "8b00767e",
   "metadata": {},
   "source": []
  },
  {
   "cell_type": "markdown",
   "id": "8bedd2b8",
   "metadata": {},
   "source": [
    "# Day 2"
   ]
  },
  {
   "cell_type": "code",
   "execution_count": null,
   "id": "dd119bd8",
   "metadata": {},
   "outputs": [],
   "source": [
    "s = input(\"enter your string\")\n",
    "def right_justify(s):\n",
    "    z = 70 - int(len(s))\n",
    "    y = ' '*z\n",
    "    a = y + s\n",
    "    return a\n",
    "right_justify(s)"
   ]
  },
  {
   "cell_type": "code",
   "execution_count": null,
   "id": "af3d179c",
   "metadata": {},
   "outputs": [],
   "source": []
  },
  {
   "cell_type": "code",
   "execution_count": null,
   "id": "b267b4d5",
   "metadata": {},
   "outputs": [],
   "source": [
    "l = input(\"enter length\")\n",
    "b = input(\"enter breadth\")\n",
    "\n",
    "t = '-'*int(b)\n",
    "mid = \"|\" + (\" \"*(int(b)-2)) sars\n",
    "def rectangle(l,b):\n",
    "    "
   ]
  },
  {
   "cell_type": "code",
   "execution_count": null,
   "id": "063f7991",
   "metadata": {},
   "outputs": [],
   "source": [
    "l = []\n",
    "\n",
    "t = [5]\n",
    "\n",
    "\n",
    "for x in t:\n",
    "    print(x)\n",
    "    x+=6\n",
    "    t.append(x)\n",
    "    \n",
    "    if len(t) == 20:\n",
    "        break\n",
    "    \n",
    "#print(t)\n",
    "\n",
    "for n in range(1,101):\n",
    "    l.append(n)\n",
    "for n in l:\n",
    "    if n%2==0:\n",
    "        l.remove(n)\n",
    "#         t.append(n)\n",
    "        \n",
    "print(l)\n",
    "\n",
    "# for n in l:\n",
    "#     i = l.index(n)\n",
    "#     if (i+1)%3==0:\n",
    "#         print(n)\n",
    "#         l.remove(n)\n",
    "#         t.append(n)\n",
    "       \n",
    "\n",
    "for n in t and n in l:\n",
    "    l.remove(n)\n",
    "    \n",
    "print(l)\n",
    "# print(t)"
   ]
  },
  {
   "cell_type": "code",
   "execution_count": null,
   "id": "ac44c283",
   "metadata": {},
   "outputs": [],
   "source": [
    "len(l)"
   ]
  },
  {
   "cell_type": "code",
   "execution_count": null,
   "id": "3fde2181",
   "metadata": {},
   "outputs": [],
   "source": [
    "print(\"hi\")"
   ]
  },
  {
   "cell_type": "code",
   "execution_count": null,
   "id": "e4bb4856",
   "metadata": {},
   "outputs": [],
   "source": []
  }
 ],
 "metadata": {
  "kernelspec": {
   "display_name": "Python 3 (ipykernel)",
   "language": "python",
   "name": "python3"
  },
  "language_info": {
   "codemirror_mode": {
    "name": "ipython",
    "version": 3
   },
   "file_extension": ".py",
   "mimetype": "text/x-python",
   "name": "python",
   "nbconvert_exporter": "python",
   "pygments_lexer": "ipython3",
   "version": "3.10.14"
  }
 },
 "nbformat": 4,
 "nbformat_minor": 5
}
